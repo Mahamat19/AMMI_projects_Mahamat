{
  "nbformat": 4,
  "nbformat_minor": 0,
  "metadata": {
    "colab": {
      "provenance": []
    },
    "kernelspec": {
      "name": "python3",
      "display_name": "Python 3"
    },
    "language_info": {
      "name": "python"
    }
  },
  "cells": [
    {
      "cell_type": "markdown",
      "source": [
        "# Ex1:\n",
        "\n",
        "Declare a destroy_elements function that accepts two lists.\n",
        "It should return a list of all elements from the first list that are NOT contained in the second list.\n",
        " Use list comprehension in your solution.\n",
        "\n",
        " EXAMPLES\n",
        "* destroy_elements([1, 2, 3], [1, 2])      => [3]\n",
        "* destroy_elements([1, 2, 3], [1, 2, 3])   => []\n",
        "* destroy_elements([1, 2, 3], [4, 5])      => [1, 2, 3]"
      ],
      "metadata": {
        "id": "MkYYtX6Ktz35"
      }
    },
    {
      "cell_type": "code",
      "source": [
        "# Write your code here\n",
        "def destroy_element(list1,list2):\n",
        "  new_list= [] #This is an empty list which is going to be filled up with (or not) elt of list1 that are not in list2\n",
        "  for elt in list1:\n",
        "    if elt not in list2:\n",
        "      new_list.append(elt)\n",
        "  return new_list\n",
        "\n",
        "list1=[1,2,3]\n",
        "list2=[1,2,3]\n",
        "print(destroy_element(list1,list2))"
      ],
      "metadata": {
        "id": "2sGz_vlgt0cU",
        "colab": {
          "base_uri": "https://localhost:8080/"
        },
        "outputId": "cd1ec841-292e-4fb2-bc46-cfbb7ec6b345"
      },
      "execution_count": null,
      "outputs": [
        {
          "output_type": "stream",
          "name": "stdout",
          "text": [
            "[]\n"
          ]
        }
      ]
    },
    {
      "cell_type": "code",
      "source": [
        "# Quite simple code\n",
        "def destroy_element(list1,list2):\n",
        "  return [elt for elt in list1 if elt not in list2]\n",
        "\n",
        "list1=[1,2,4,5,6]\n",
        "list2=[1,2]\n",
        "print(destroy_element(list1,list2))"
      ],
      "metadata": {
        "colab": {
          "base_uri": "https://localhost:8080/"
        },
        "id": "nteMJC6uHpBo",
        "outputId": "504ab898-0739-4b97-8001-96855a0dfe25"
      },
      "execution_count": null,
      "outputs": [
        {
          "output_type": "stream",
          "name": "stdout",
          "text": [
            "[4, 5, 6]\n"
          ]
        }
      ]
    },
    {
      "cell_type": "markdown",
      "source": [
        "# Ex2 (Majority element)\n",
        "Given an array nums of size n, return the majority element.\n",
        "\n",
        "The majority element is the element that appears more than ⌊n / 2⌋ times. You may assume that the majority element always exists in the array.\n",
        "\n",
        "Input: nums = [2,2,1,1,1,2,2] <br>\n",
        "Output: 2"
      ],
      "metadata": {
        "id": "UZq_NOou7ke9"
      }
    },
    {
      "cell_type": "code",
      "source": [
        "# Write your code here\n",
        "def majority_element(nums):\n",
        "  for i in range(len(nums)):\n",
        "    count= 0\n",
        "    for j in range(len(nums)):\n",
        "        if nums[i]==nums[j]:\n",
        "          count += 1\n",
        "    if count>=len(nums)/2:\n",
        "          return nums[i]\n",
        "nums = [1,3,1,1,1,1,2,3]\n",
        "print(majority_element(nums))"
      ],
      "metadata": {
        "id": "xVn5x3Jas6W6",
        "colab": {
          "base_uri": "https://localhost:8080/"
        },
        "outputId": "0ed96dcb-8a31-4b89-9ea1-4f4881b010a6"
      },
      "execution_count": null,
      "outputs": [
        {
          "output_type": "stream",
          "name": "stdout",
          "text": [
            "1\n"
          ]
        }
      ]
    },
    {
      "cell_type": "markdown",
      "source": [
        "# Ex3:\n",
        "\n",
        "Given an integer array nums, return true if any value appears at least twice in the array, and return false if every element is distinct.\n",
        "\n",
        "Input: nums = [1,2,3,1] <br>\n",
        "Output: true"
      ],
      "metadata": {
        "id": "puVxPeZP9IGO"
      }
    },
    {
      "cell_type": "code",
      "source": [
        "# Write your code here\n",
        "def contains_Duplicate(nums):\n",
        "  for i in range(len(nums)):\n",
        "    count= 0\n",
        "    for j in range(len(nums)):\n",
        "      if nums[i]==nums[j]:\n",
        "        count += 1\n",
        "    return True if count>=2 else False\n",
        "\n",
        "nums = [1,2,3,4]\n",
        "print(contains_Duplicate(nums))"
      ],
      "metadata": {
        "id": "Ma6zH-6NuJ4d",
        "colab": {
          "base_uri": "https://localhost:8080/"
        },
        "outputId": "a671afcb-1a78-4b9e-e2d2-f644c6bfda24"
      },
      "execution_count": null,
      "outputs": [
        {
          "output_type": "stream",
          "name": "stdout",
          "text": [
            "False\n"
          ]
        }
      ]
    },
    {
      "cell_type": "markdown",
      "source": [
        "# Ex4:\n",
        "Write a factors function that accepts a positive whole number\n",
        "It should return a list of all of the number's factors in ascending order\n",
        " HINT: Could the range function be helpful here? Or maybe a while loop?\n",
        "EXAMPLES\n",
        "\n",
        "* factors(1)  => [1]\n",
        "* factors(2)  => [1, 2]\n",
        "* factors(10) => [1, 2, 5, 10]\n",
        "* factors(64) => [1, 2, 4, 8, 16, 32, 64]\n"
      ],
      "metadata": {
        "id": "rVd-qLroC36V"
      }
    },
    {
      "cell_type": "code",
      "source": [
        "# Write your code here\n",
        "def factors(numb):\n",
        "  list1= []\n",
        "  for i in range(1,numb+1):\n",
        "    if numb % i== 0:\n",
        "      list1.append(i)\n",
        "  return list1\n",
        "\n",
        "numb= 24\n",
        "print(factors(numb))"
      ],
      "metadata": {
        "id": "D0yaEPVHuczY",
        "colab": {
          "base_uri": "https://localhost:8080/"
        },
        "outputId": "47813f3b-074a-49d6-d385-79046de79ef5"
      },
      "execution_count": null,
      "outputs": [
        {
          "output_type": "stream",
          "name": "stdout",
          "text": [
            "[1, 2, 3, 4, 6, 8, 12, 24]\n"
          ]
        }
      ]
    },
    {
      "cell_type": "markdown",
      "source": [
        "#Ex5:\n",
        "Write a Python function that takes a positive integer as input and returns the sum of the squares of all the positive integers up to that number."
      ],
      "metadata": {
        "id": "h4ErNY7uG5xR"
      }
    },
    {
      "cell_type": "code",
      "source": [
        "# Write your code here\n",
        "def sum_of_square(number):\n",
        "  sum=0\n",
        "  for i in range(1,number+1):\n",
        "    sum+=i**2\n",
        "  return sum\n",
        "number= 5\n",
        "print(sum_of_square(number))"
      ],
      "metadata": {
        "id": "ocvQN8hUubSr",
        "colab": {
          "base_uri": "https://localhost:8080/"
        },
        "outputId": "598c4fea-7356-40e3-eb9a-c2ee709e8d73"
      },
      "execution_count": null,
      "outputs": [
        {
          "output_type": "stream",
          "name": "stdout",
          "text": [
            "55\n"
          ]
        }
      ]
    },
    {
      "cell_type": "markdown",
      "source": [
        "#Ex6:\n",
        "Create a list of tuples, where each tuple represents a person with a name and age. Sort the list based on the age of the individuals."
      ],
      "metadata": {
        "id": "88GfmnrlHVqu"
      }
    },
    {
      "cell_type": "code",
      "source": [
        "# Write your code here\n",
        "person1=(\"Mahamat\", \"20\")\n",
        "person2=(\"Tahir\", \"16\")\n",
        "person3=(\"Souleyman\", \"18\")\n",
        "person4=(\"Bouba\", \"14\")\n",
        "\n",
        "list_of_tuples=[person1, person2, person3, person4]\n",
        "\n",
        "list_of_tuples.sort(key= lambda x: int(x[1]), reverse=True)\n",
        "print(list_of_tuples)"
      ],
      "metadata": {
        "id": "CHmcYjf4uu8N",
        "colab": {
          "base_uri": "https://localhost:8080/"
        },
        "outputId": "35e78ccc-6a6e-4046-d6f7-ff5c3a9b964c"
      },
      "execution_count": null,
      "outputs": [
        {
          "output_type": "stream",
          "name": "stdout",
          "text": [
            "[('Mahamat', '20'), ('Souleyman', '18'), ('Tahir', '16'), ('Bouba', '14')]\n"
          ]
        }
      ]
    },
    {
      "cell_type": "markdown",
      "source": [
        "#Ex7:\n",
        "Write a function that takes a list of words and a minimum length, and returns a new list containing only the words that are longer than the specified length."
      ],
      "metadata": {
        "id": "-2cOhkMwHIg4"
      }
    },
    {
      "cell_type": "code",
      "source": [
        "# Write your code here\n",
        "def list_of_words(my_list, min_len):\n",
        "  new_list= []\n",
        "  for elt in my_list:\n",
        "    if len(elt)>min_len:\n",
        "      new_list.append(elt)\n",
        "  return new_list\n",
        "\n",
        "my_list= [\"Hi\", \"Hello\", \"Bonjour\", \"Salut\", \"Hey\", \"Hallo\", \"Guten Morgen\", \"Merci\", \"Danke\", \"Thank you\" ]\n",
        "min_len= 3\n",
        "print(list_of_words(my_list, min_len))\n"
      ],
      "metadata": {
        "id": "JObqLzcWvJds",
        "colab": {
          "base_uri": "https://localhost:8080/"
        },
        "outputId": "c007b0f5-0cb5-4974-d106-e308b7c445c1"
      },
      "execution_count": null,
      "outputs": [
        {
          "output_type": "stream",
          "name": "stdout",
          "text": [
            "['Hello', 'Bonjour', 'Salut', 'Hallo', 'Guten Morgen', 'Merci', 'Danke', 'Thank you']\n"
          ]
        }
      ]
    },
    {
      "cell_type": "markdown",
      "source": [
        "# Ex8:\n",
        "Declare a delete_all function that accepts a list and a target\n",
        "Remove all occurrences of the target  from the list and return it\n",
        "\n",
        "EXAMPLES\n",
        "* delete_all([1, 3, 5], 3)  => [1, 5]\n",
        "* delete_all([5, 3, 5], 5)  => [3]\n",
        "* delete_all([4, 4, 4], 4)  => []\n",
        "* delete_all([4, 4, 4], 6)  => [4, 4, 4]"
      ],
      "metadata": {
        "id": "0ZS6BKpEDu9x"
      }
    },
    {
      "cell_type": "code",
      "source": [
        "# Write your code here\n",
        "def delete_all_occurrences(My_list2,target):\n",
        "  for elt in My_list2[:]:\n",
        "    if elt==target:\n",
        "      My_list2.remove(elt)\n",
        "  return My_list2\n",
        "\n",
        "My_list2=[1,2,2,3,5,5,3,5]\n",
        "target=2\n",
        "print(delete_all_occurrences(My_list2,target))\n"
      ],
      "metadata": {
        "id": "iKKREE4XvyWL",
        "colab": {
          "base_uri": "https://localhost:8080/"
        },
        "outputId": "5c694f45-ccf4-4701-8c6a-a6fd5640aec8"
      },
      "execution_count": null,
      "outputs": [
        {
          "output_type": "stream",
          "name": "stdout",
          "text": [
            "[1, 3, 5, 5, 3, 5]\n"
          ]
        }
      ]
    },
    {
      "cell_type": "code",
      "source": [
        "# Quite simple\n",
        "def delete_all_occurrences(My_list2,target):\n",
        "  return [elt for elt in My_list2 if elt!=target]\n",
        "My_list2=[1,2,2,3,5,5,3,5]\n",
        "target=2\n",
        "print(delete_all_occurrences(My_list2,target))\n"
      ],
      "metadata": {
        "colab": {
          "base_uri": "https://localhost:8080/"
        },
        "id": "qGFT5RQpbUiD",
        "outputId": "7b74a25c-ee7b-4c1b-ce7d-dbc38dc33326"
      },
      "execution_count": null,
      "outputs": [
        {
          "output_type": "stream",
          "name": "stdout",
          "text": [
            "[1, 3, 5, 5, 3, 5]\n"
          ]
        }
      ]
    },
    {
      "cell_type": "markdown",
      "source": [
        "# Ex9:\n",
        "\n",
        "Define an encrypt_message function that accepts a string.\n",
        " The input string will consist of only alphabetic characters.\n",
        " The function should return a string where all characters have been moved\n",
        " \"up\" two spots in the alphabet. For example, \"a\" will become \"c\".\n",
        "\n",
        " EXAMPLES\n",
        "* encrypt_message(\"abc\") =&gt; \"cde\"\n",
        "* encrypt_message(\"xyz\") =&gt; \"zab\"\n",
        "* encrypt_message(\"\")    =&gt; \"\"\n",
        "\n",
        "* bonus:  can you write a function to decrypt the encrypted message :)"
      ],
      "metadata": {
        "id": "R4dKFHA6D4-m"
      }
    },
    {
      "cell_type": "code",
      "source": [
        "# Write your code here"
      ],
      "metadata": {
        "id": "b-Vd-7NUv2LA"
      },
      "execution_count": null,
      "outputs": []
    },
    {
      "cell_type": "markdown",
      "source": [
        "#Ex10:\n",
        "\n",
        "Define a word_lengths function that accepts a string.\n",
        "It should return a list with the lengths of each word.\n",
        "\n",
        " EXAMPLES\n",
        "* word_lengths(\"Mary Poppins was a nanny\")  => [4, 7, 3, 1, 5]\n",
        "* word_lengths(\"Somebody stole my donut\")   => [8, 5, 2, 5]"
      ],
      "metadata": {
        "id": "LDKoTj1NEFdY"
      }
    },
    {
      "cell_type": "code",
      "source": [
        "# Write your code here\n",
        "def word_lengths(strings):\n",
        "  list_of_len=[]\n",
        "  charac=strings.split()\n",
        "  for elt in charac:\n",
        "    list_of_len.append(len(elt))\n",
        "  return list_of_len\n",
        "\n",
        "strings= \"Mary Poppins was a nanny Somebody stole my donut\"\n",
        "print(word_lengths(strings))\n",
        "\n"
      ],
      "metadata": {
        "id": "mou8C2sav7pS",
        "colab": {
          "base_uri": "https://localhost:8080/"
        },
        "outputId": "17121725-04e5-4f0f-b950-7b76c1c6856f"
      },
      "execution_count": null,
      "outputs": [
        {
          "output_type": "stream",
          "name": "stdout",
          "text": [
            "[4, 7, 3, 1, 5, 8, 5, 2, 5]\n"
          ]
        }
      ]
    },
    {
      "cell_type": "markdown",
      "source": [
        "# Ex11:\n",
        "\n",
        "Define a cleanup function that accepts a list of strings.\n",
        "The function should return the strings joined together by a space.\n",
        "There's one BIG problem -- some of the strings are empty or only consist of spaces!\n",
        "These should NOT be included in the final string\n",
        "#\n",
        "* cleanup([\"cat\", \"er\", \"pillar\"])           => \"cat er pillar\"\n",
        "* cleanup([\"cat\", \" \", \"er\", \"\", \"pillar\"])  => \"cat er pillar\"\n",
        "* cleanup([\"\", \"\", \" \"])                     => \"\"\n"
      ],
      "metadata": {
        "id": "WFRV5VYbEWEd"
      }
    },
    {
      "cell_type": "code",
      "source": [
        "# Write your code here\n",
        "def cleanup(list_of_str):\n",
        "  for elt in list_of_str:\n",
        "    elt1=elt.strip()\n",
        "  return \" \".join(elt1)\n",
        "\n",
        "list_of_str=[\"cat\", \"er\", \"pillar\"]\n",
        "\n",
        "print(cleanup(list_of_str))\n",
        "\n",
        "\n"
      ],
      "metadata": {
        "id": "x3E0yruswBSn",
        "colab": {
          "base_uri": "https://localhost:8080/"
        },
        "outputId": "32c379c0-4a78-4e05-862d-30674e5bb2a4"
      },
      "execution_count": null,
      "outputs": [
        {
          "output_type": "stream",
          "name": "stdout",
          "text": [
            "p i l l a r\n"
          ]
        }
      ]
    },
    {
      "cell_type": "markdown",
      "source": [
        "# Ex12:\n",
        "\n",
        "Define a nested_sum function that accepts a list of lists of numbers\n",
        "The function should return the sum of the values\n",
        " The list may contain empty lists\n",
        "\n",
        " EXAMPLES\n",
        "* nested_sum([[1, 2, 3], [4, 5]])            =&gt; 15\n",
        "* nested_sum([[1, 2, 3], [], [], [4], [5]])  =&gt; 15\n",
        "* nested_sum([[]])   "
      ],
      "metadata": {
        "id": "nIyrVVFDEnHE"
      }
    },
    {
      "cell_type": "code",
      "source": [
        "# Write your code here\n",
        "def nested_sum(lists):\n",
        "  n_sum=0\n",
        "  for elt in lists:\n",
        "    n_sum += sum(elt)\n",
        "  return n_sum\n",
        "\n",
        "print(nested_sum([[1, 2, 3], [4, 5]]))"
      ],
      "metadata": {
        "id": "iL1WpI0lwE9Y",
        "colab": {
          "base_uri": "https://localhost:8080/"
        },
        "outputId": "c24a7a7d-c8c2-404e-fd46-a0fcfe62734a"
      },
      "execution_count": null,
      "outputs": [
        {
          "output_type": "stream",
          "name": "stdout",
          "text": [
            "15\n"
          ]
        }
      ]
    },
    {
      "cell_type": "markdown",
      "source": [
        "#Ex13:\n",
        "Create a dictionary representing a person (include name, age, and city). Write a program to:\n",
        "\n",
        "* Print the person's information.\n",
        "* Update the person's age.\n",
        "* Add a new key-value pair for the person's occupation.\n",
        "* Display the updated dictionary."
      ],
      "metadata": {
        "id": "qR-UrTXyH3P6"
      }
    },
    {
      "cell_type": "code",
      "source": [],
      "metadata": {
        "id": "HgtQMHk67eoU"
      },
      "execution_count": 4,
      "outputs": []
    },
    {
      "cell_type": "code",
      "source": [
        "# Write your code here\n",
        "# Print the person's information.\n",
        "person_information = {\"name\": \"Bouba \",\n",
        "                      \"age\": 18,\n",
        "                      \"city\": \"N'Djamena\"}\n",
        "\n",
        "\n",
        "print(\"person's information:\")\n",
        "print(person_information)\n",
        "\n",
        "# Update the person's age\n",
        "person_information[\"age\"] = 20\n",
        "\n",
        "# Add a new key-value pair for person's occupation\n",
        "person_information[\"occupation\"] = \"Civil Engineer\"\n",
        "\n",
        "# Print the updated dictionary\n",
        "print(\"\\nUpdated Dictionary:\")\n",
        "print(person_information)\n"
      ],
      "metadata": {
        "id": "Hlpnr_thsp-e",
        "colab": {
          "base_uri": "https://localhost:8080/"
        },
        "outputId": "c8e7d551-3d72-492a-9be5-01d62f901eb0"
      },
      "execution_count": 5,
      "outputs": [
        {
          "output_type": "stream",
          "name": "stdout",
          "text": [
            "person's information:\n",
            "{'name': 'Bouba ', 'age': 18, 'city': \"N'Djamena\"}\n",
            "\n",
            "Updated Dictionary:\n",
            "{'name': 'Bouba ', 'age': 20, 'city': \"N'Djamena\", 'occupation': 'Civil Engineer'}\n"
          ]
        }
      ]
    },
    {
      "cell_type": "markdown",
      "source": [
        "# Ex14:\n",
        "\n",
        "Many organizations have user ids which are constrained in some way. Imagine you work at an internet service provider and the user ids are all two letters followed by two numbers (e.g. aa49). Your task at such an organization might be to hold a record on the billing activity for each possible user.\n",
        "\n",
        "Write an initialization line as a single list comprehension which creates a list of all possible user ids. Assume the letters are all lower case."
      ],
      "metadata": {
        "id": "Vw-3fHSNFoWC"
      }
    },
    {
      "cell_type": "code",
      "source": [
        "# Write your code here"
      ],
      "metadata": {
        "id": "lBlaus6ZwKRr"
      },
      "execution_count": null,
      "outputs": []
    },
    {
      "cell_type": "markdown",
      "source": [
        "# Ex15:\n",
        "Ask the user to enter a password, then:\n",
        "\n",
        "*   check if it contains uppercase letters, lowercase letters, numbers and special characters.\n",
        "*   Give feedback to the user(\"Strong password!\" or \" The password should include a mix of uppercase letters, lowercase letters, numbers, and special characters.\" ).\n",
        "\n"
      ],
      "metadata": {
        "id": "hCecXHVOFaWG"
      }
    },
    {
      "cell_type": "code",
      "source": [
        "# Write your code here\n"
      ],
      "metadata": {
        "id": "ik9Jg2XbGmcR"
      },
      "execution_count": null,
      "outputs": []
    },
    {
      "cell_type": "markdown",
      "source": [
        "# Ex16:\n",
        "\n",
        "Declare a sum_of_evens_and_odds function that accepts a tuple of numbers.\n",
        "#### It should return a tuple with two numeric values:\n",
        " - the sum of the even numbers\n",
        " - the sum of the odd numbers.\n",
        "* sum_of_evens_and_odds((1, 2, 3, 4))   => (6, 4)\n",
        "* sum_of_evens_and_odds((1, 3, 5))      => (0, 9)\n",
        "* sum_of_evens_and_odds((2, 4, 6))      => (12, 0)\n"
      ],
      "metadata": {
        "id": "rR0les2KG-2C"
      }
    },
    {
      "cell_type": "code",
      "source": [
        "# Write your code here\n",
        "def sum_of_evens_and_odds(tuple_of_numb):\n",
        "\n",
        "    sum_of_evens = sum(n for n in tuple_of_numb if n % 2 == 0)\n",
        "    sum_of_odds = sum(n for n in tuple_of_numb if n % 2 != 0)\n",
        "\n",
        "    return (sum_of_evens, sum_of_odds)\n",
        "\n",
        "\n",
        "print(sum_of_evens_and_odds((1, 2, 3, 4)))\n",
        "print(sum_of_evens_and_odds((1, 3, 5)))\n",
        "print(sum_of_evens_and_odds((2, 5, 6)))\n"
      ],
      "metadata": {
        "id": "i1QUrg1qHEAf",
        "colab": {
          "base_uri": "https://localhost:8080/"
        },
        "outputId": "79506fab-621b-45f8-9f56-011ed2342358"
      },
      "execution_count": 29,
      "outputs": [
        {
          "output_type": "stream",
          "name": "stdout",
          "text": [
            "(6, 4)\n",
            "(0, 9)\n",
            "(8, 5)\n"
          ]
        }
      ]
    },
    {
      "cell_type": "markdown",
      "source": [
        "# Ex17:\n",
        "\n",
        "Define a length_counts function that accepts a list of strings.\n",
        "The function should return a dictionary where the keys represent\n",
        " length and the values represent how many strings have that length.\n",
        "\n",
        " EXAMPLE:\n",
        "* sa_countries = [\"Brazil\", \"Venezuela\", \"Argentina\", \"Ecuador\", \"Bolivia\", \"Peru\"]\n",
        "* length_counts(sa_countries) =&gt; # {6: 1, 9: 2, 7: 2, 4: 1}\n",
        "* There is 1 string with 6 letters, 2 strings with 9 letters,\n",
        "* 2 strings with 7 letters, and 1 string with 4 letters."
      ],
      "metadata": {
        "id": "zN-lIAX6PBv_"
      }
    },
    {
      "cell_type": "code",
      "source": [
        "# Write your code here\n",
        "def length_counts(strings):\n",
        "    counts = {}\n",
        "    for elt in strings:\n",
        "        length = len(elt)\n",
        "        counts[length] = counts.get(length, 0) + 1\n",
        "    return counts\n",
        "\n",
        "\n",
        "sa_countries = [\"Brazil\", \"Venezuela\", \"Argentina\", \"Ecuador\", \"Bolivia\", \"Peru\"]\n",
        "print(length_counts(sa_countries))"
      ],
      "metadata": {
        "id": "XQNXxohDPI2a",
        "colab": {
          "base_uri": "https://localhost:8080/"
        },
        "outputId": "2dd1860a-de25-454d-f855-f5ec5262caed"
      },
      "execution_count": 23,
      "outputs": [
        {
          "output_type": "stream",
          "name": "stdout",
          "text": [
            "{6: 1, 9: 2, 7: 2, 4: 1}\n"
          ]
        }
      ]
    },
    {
      "cell_type": "markdown",
      "source": [
        "# Ex18:\n",
        "\n",
        "Given two strings s and t, determine if they are isomorphic.\n",
        "\n",
        "Two strings s and t are isomorphic if the characters in s can be replaced to get t.\n",
        "\n",
        "All occurrences of a character must be replaced with another character while preserving the order of characters. No two characters may map to the same character, but a character may map to itself."
      ],
      "metadata": {
        "id": "18XGQlvusz41"
      }
    },
    {
      "cell_type": "markdown",
      "source": [
        "Input: s = \"egg\", t = \"add\" <br>\n",
        "Output: true\n",
        "<br><br>\n",
        "Input: s = \"foo\", t = \"bar\" <br>\n",
        "Output: false"
      ],
      "metadata": {
        "id": "Y_nkzWLltAqh"
      }
    },
    {
      "cell_type": "code",
      "source": [
        "# Write your code here\n",
        "def isomorphism(s: str, t: str) -> bool:\n",
        "    if len(s) != len(t):\n",
        "        return False\n",
        "\n",
        "    s_to_t = {}\n",
        "    t_to_s = {}\n",
        "\n",
        "    for character_s, character_t in zip(s, t):\n",
        "        if character_s in s_to_t:\n",
        "            if s_to_t[character_s] != character_t:\n",
        "                return False\n",
        "        else:\n",
        "            s_to_t[character_s] = character_t\n",
        "\n",
        "        if character_t in t_to_s:\n",
        "            if t_to_s[character_t] != character_s:\n",
        "                return False\n",
        "        else:\n",
        "            t_to_s[character_t] = character_s\n",
        "\n",
        "    return True\n",
        "\n",
        "print(isomorphism(\"egg\", \"add\"))\n",
        "\n",
        "print(isomorphism(\"foo\", \"bar\"))\n"
      ],
      "metadata": {
        "id": "_6R7d_HHs7jX",
        "colab": {
          "base_uri": "https://localhost:8080/"
        },
        "outputId": "2f7f062c-8d8b-4922-9e6d-cd88eb2b2253"
      },
      "execution_count": 22,
      "outputs": [
        {
          "output_type": "stream",
          "name": "stdout",
          "text": [
            "True\n",
            "False\n"
          ]
        }
      ]
    },
    {
      "cell_type": "markdown",
      "source": [
        "# Ex19:\n",
        "\n",
        " Dot product of vectors: <br>\n",
        "\n",
        "Vectors are mathematical objects that are often used to represent the inputs to neural networks. One way to view the vectors is as list of items. Complete the following code to compute dot product of two vectors. Dot product is defined the following equation:-\n",
        "</font>\n",
        "\n",
        "$$\n",
        "x.y = <x, y> = x^Ty = \\sum_{i}^n x_iy_i\n",
        "$$\n",
        "\n",
        "<font  color=\"white\">\n",
        "Assume that only lists are passed to the function and they also contain only numeric datatype.\n",
        "\n",
        "</font>"
      ],
      "metadata": {
        "id": "ZwDgOtitva28"
      }
    },
    {
      "cell_type": "code",
      "source": [
        "# Write your code here\n",
        "def dot_product_of_vect(vect1, vect2):\n",
        "    return sum(u * v for u, v in zip(vect1, vect2))\n",
        "\n",
        "\n",
        "\n",
        "print(dot_product_of_vect([1, 2, 3], [4, 5, 6]))\n",
        "print(dot_product_of_vect([0, 1, 2], [3, 4, 5]))\n",
        "print(dot_product_of_vect([1, -1, 2], [-2, 3, 1]))"
      ],
      "metadata": {
        "id": "hP7lPZtWv3Ot",
        "colab": {
          "base_uri": "https://localhost:8080/"
        },
        "outputId": "e159f851-71b3-42be-e8a2-5635b895f80d"
      },
      "execution_count": 34,
      "outputs": [
        {
          "output_type": "stream",
          "name": "stdout",
          "text": [
            "32\n",
            "14\n",
            "-3\n"
          ]
        }
      ]
    },
    {
      "cell_type": "markdown",
      "source": [
        "# Ex20:\n",
        "\n",
        "Write a function MatMul that multiplies two 2D matrices A and B and returns the result\n",
        "\n",
        "Validate you code using:\n",
        "\n",
        "```\n",
        "A = [ [1,2,3],[4,5,6] ]\n",
        "B = [ [4,5], [1,2], [0, 1] ]\n",
        "\n",
        "\n",
        "```"
      ],
      "metadata": {
        "id": "M8uSZ_oewecj"
      }
    },
    {
      "cell_type": "code",
      "source": [
        "def MatMul(A, B):\n",
        "  ##### WRITE YOUR CODE HERE #####\n",
        "\n",
        "  #### END CODE ####\n",
        "\n",
        "\n",
        "A = [ [1,2,3],[4,5,6] ]\n",
        "B = [ [4,5], [1,2], [0, 1] ]\n",
        "print(MatMul(A, B))\n",
        "assert MatMul(A, B)==[[6, 12], [21, 36]], \"Your implementation is not correct\"\n",
        "print(\"Congrats, It is working\")"
      ],
      "metadata": {
        "id": "sKKwisC5wuZq",
        "colab": {
          "base_uri": "https://localhost:8080/",
          "height": 106
        },
        "outputId": "39f77b99-22e9-42af-deef-0efaa69a516b"
      },
      "execution_count": null,
      "outputs": [
        {
          "output_type": "error",
          "ename": "IndentationError",
          "evalue": "expected an indented block after function definition on line 1 (<ipython-input-103-c1479e2fe355>, line 7)",
          "traceback": [
            "\u001b[0;36m  File \u001b[0;32m\"<ipython-input-103-c1479e2fe355>\"\u001b[0;36m, line \u001b[0;32m7\u001b[0m\n\u001b[0;31m    A = [ [1,2,3],[4,5,6] ]\u001b[0m\n\u001b[0m    ^\u001b[0m\n\u001b[0;31mIndentationError\u001b[0m\u001b[0;31m:\u001b[0m expected an indented block after function definition on line 1\n"
          ]
        }
      ]
    },
    {
      "cell_type": "markdown",
      "source": [
        "#Ex21:\n",
        "\n",
        "<b> Given a list l, reverse l.\n",
        "Ex= [1,2,3,4,5] ==> [5,4,3,2,1]. In this case the operation has to be done in-place. Do not allow new memory space</b>\n",
        "\n",
        "DON't USE THE PYTHON INDEXING [::-1]"
      ],
      "metadata": {
        "id": "BZcW3Dk_eJoz"
      }
    },
    {
      "cell_type": "code",
      "source": [
        "# Write your code here\n",
        "list1=[1,2,3,4,5]\n",
        "list1.sort(reverse= True)\n",
        "print(list1)"
      ],
      "metadata": {
        "id": "t2nH7TUMeR9S",
        "colab": {
          "base_uri": "https://localhost:8080/"
        },
        "outputId": "9323b153-e20a-47da-f2dd-aed6220e3d7b"
      },
      "execution_count": null,
      "outputs": [
        {
          "output_type": "stream",
          "name": "stdout",
          "text": [
            "[5, 4, 3, 2, 1]\n"
          ]
        }
      ]
    },
    {
      "cell_type": "markdown",
      "source": [
        "# Ex22:\n",
        "\n",
        "<b> Given a string s, check whether s is a palindrome. s is the palindrome if s is equal to its reverse.Using:\n",
        "- slicing in python\n",
        "- loop.</b>\n",
        "\n",
        "example : s='aba' is a palindrom\n",
        "s='abaa' isnot a palindrom"
      ],
      "metadata": {
        "id": "7t8LhgVbespH"
      }
    },
    {
      "cell_type": "code",
      "source": [
        "# Write your code here\n",
        "s= 'BaB'\n",
        "s1=list(s)\n",
        "s1.sort(reverse= False)\n",
        "s2=\"\".join(s1)\n",
        "print(s2)\n"
      ],
      "metadata": {
        "id": "tLIuX7ASesVx",
        "colab": {
          "base_uri": "https://localhost:8080/"
        },
        "outputId": "8168ee55-027a-4650-a335-056c9247e7b3"
      },
      "execution_count": null,
      "outputs": [
        {
          "output_type": "stream",
          "name": "stdout",
          "text": [
            "BBa\n"
          ]
        }
      ]
    },
    {
      "cell_type": "markdown",
      "source": [
        "# Ex23:\n",
        "\n",
        "Find the factorial of a given number:\n",
        "\n",
        "Write a program to use the loop to find the factorial of a given number.\n",
        "\n",
        "The factorial (symbol: !) means to multiply all whole numbers from the chosen number down to 1.\n",
        "\n",
        "For example: calculate the factorial of 5"
      ],
      "metadata": {
        "id": "u5vdU3SBiUqd"
      }
    },
    {
      "cell_type": "code",
      "source": [
        "# Write your code here\n",
        "def factorial(n):\n",
        "  fac_of_n=1\n",
        "  for i in range(1,n+1):\n",
        "    fac_of_n *=i\n",
        "  return fac_of_n\n",
        "n=9\n",
        "print(factorial(n))"
      ],
      "metadata": {
        "id": "TPzmWdq7ieiu",
        "colab": {
          "base_uri": "https://localhost:8080/"
        },
        "outputId": "5f65f72e-cbe6-46f6-def3-d6d0073a1f5c"
      },
      "execution_count": null,
      "outputs": [
        {
          "output_type": "stream",
          "name": "stdout",
          "text": [
            "362880\n"
          ]
        }
      ]
    },
    {
      "cell_type": "markdown",
      "source": [
        "# Ex24:\n",
        "\n",
        "Display Fibonacci series up to 10 terms:\n",
        "\n",
        "The Fibonacci Sequence is a series of numbers. The next number is found by adding up the two numbers before it. The first two numbers are 0 and 1.\n",
        "\n",
        "For example, 0, 1, 1, 2, 3, 5, 8, 13, 21. The next number in this series above is 13+21 = 34."
      ],
      "metadata": {
        "id": "G6evsWkHimeY"
      }
    },
    {
      "cell_type": "code",
      "source": [
        "# Write your code here\n",
        "def Fibonacci_sequence(n):\n",
        "  list_fib=[0,1]\n",
        "  for i in range(2,n+1):\n",
        "    j=list_fib[-1] + list_fib[-2]\n",
        "    list_fib.append(j)\n",
        "  return list_fib\n",
        "n=35\n",
        "print(Fibonacci_sequence(n))"
      ],
      "metadata": {
        "id": "aZC6D0VOiq4F",
        "colab": {
          "base_uri": "https://localhost:8080/"
        },
        "outputId": "3706679f-e46e-4545-ee20-85278c8a6365"
      },
      "execution_count": null,
      "outputs": [
        {
          "output_type": "stream",
          "name": "stdout",
          "text": [
            "[0, 1, 1, 2, 3, 5, 8, 13, 21, 34, 55, 89, 144, 233, 377, 610, 987, 1597, 2584, 4181, 6765, 10946, 17711, 28657, 46368, 75025, 121393, 196418, 317811, 514229, 832040, 1346269, 2178309, 3524578, 5702887, 9227465]\n"
          ]
        }
      ]
    },
    {
      "cell_type": "markdown",
      "source": [
        "# Ex25:\n",
        "\n",
        "- Write a program to display all prime numbers within a range.\n",
        "\n",
        "- range\n",
        "start = 19\n",
        "end = 70"
      ],
      "metadata": {
        "id": "5XdX6KBqi2S1"
      }
    },
    {
      "cell_type": "code",
      "source": [
        "def prime_nums(n):\n",
        "    primes_list = []\n",
        "    for i in range(19, n + 1):\n",
        "        for j in range(2, i):\n",
        "            if i % j == 0:\n",
        "                break\n",
        "        else:\n",
        "            primes_list.append(i)\n",
        "    return primes_list\n",
        "\n",
        "n = 70\n",
        "print(prime_nums(n))"
      ],
      "metadata": {
        "id": "wmxegZhOi9qb",
        "colab": {
          "base_uri": "https://localhost:8080/"
        },
        "outputId": "987af9c9-e4d8-4060-b3aa-3656c68a2c09"
      },
      "execution_count": null,
      "outputs": [
        {
          "output_type": "stream",
          "name": "stdout",
          "text": [
            "[19, 23, 29, 31, 37, 41, 43, 47, 53, 59, 61, 67]\n"
          ]
        }
      ]
    },
    {
      "cell_type": "markdown",
      "source": [
        "#Ex26:\n",
        "Write a program to copy the contents of one text file (input.txt) to another file (output.txt). Handle the case where file1 does not exist."
      ],
      "metadata": {
        "id": "ndYKDm2JHr39"
      }
    },
    {
      "cell_type": "code",
      "source": [
        "# Write your code here\n",
        "try:\n",
        "\n",
        "    with open(\"input.txt\", \"r\") as file1:\n",
        "        content_file = file1.read()\n",
        "\n",
        "\n",
        "    with open(\"output.txt\", \"w\") as file2:\n",
        "        file2.write(content_file)\n",
        "\n",
        "    print(\"File copied successfully.\")\n",
        "except FileNotFoundError:\n",
        "    print(\"Error: input.txt not found.\")"
      ],
      "metadata": {
        "id": "uE0h7JNcvsb_",
        "colab": {
          "base_uri": "https://localhost:8080/"
        },
        "outputId": "cde905bc-3067-45e2-b3f2-012dea9e9b5b"
      },
      "execution_count": 35,
      "outputs": [
        {
          "output_type": "stream",
          "name": "stdout",
          "text": [
            "File copied successfully.\n"
          ]
        }
      ]
    }
  ]
}