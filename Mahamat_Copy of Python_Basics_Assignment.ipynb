{
 "cells": [
  {
   "cell_type": "markdown",
   "metadata": {
    "id": "MkYYtX6Ktz35"
   },
   "source": [
    "# Ex1:\n",
    "\n",
    "Declare a destroy_elements function that accepts two lists.\n",
    "It should return a list of all elements from the first list that are NOT contained in the second list.\n",
    " Use list comprehension in your solution.\n",
    "\n",
    " EXAMPLES\n",
    "* destroy_elements([1, 2, 3], [1, 2])      => [3]\n",
    "* destroy_elements([1, 2, 3], [1, 2, 3])   => []\n",
    "* destroy_elements([1, 2, 3], [4, 5])      => [1, 2, 3]"
   ]
  },
  {
   "cell_type": "code",
   "execution_count": null,
   "metadata": {
    "colab": {
     "base_uri": "https://localhost:8080/"
    },
    "executionInfo": {
     "elapsed": 14,
     "status": "ok",
     "timestamp": 1742953400195,
     "user": {
      "displayName": "Abakar Assouna Mahamat",
      "userId": "11729609496047913925"
     },
     "user_tz": 0
    },
    "id": "2sGz_vlgt0cU",
    "outputId": "cd1ec841-292e-4fb2-bc46-cfbb7ec6b345"
   },
   "outputs": [
    {
     "name": "stdout",
     "output_type": "stream",
     "text": [
      "[]\n"
     ]
    }
   ],
   "source": [
    "# Write your code here\n",
    "def destroy_element(list1,list2):\n",
    "  new_list= [] #This is an empty list which is going to be filled up with (or not) elt of list1 that are not in list2\n",
    "  for elt in list1:\n",
    "    if elt not in list2:\n",
    "      new_list.append(elt)\n",
    "  return new_list\n",
    "\n",
    "list1=[1,2,3]\n",
    "list2=[1,2,3]\n",
    "print(destroy_element(list1,list2))"
   ]
  },
  {
   "cell_type": "code",
   "execution_count": null,
   "metadata": {
    "colab": {
     "base_uri": "https://localhost:8080/"
    },
    "executionInfo": {
     "elapsed": 11,
     "status": "ok",
     "timestamp": 1742953839377,
     "user": {
      "displayName": "Abakar Assouna Mahamat",
      "userId": "11729609496047913925"
     },
     "user_tz": 0
    },
    "id": "nteMJC6uHpBo",
    "outputId": "504ab898-0739-4b97-8001-96855a0dfe25"
   },
   "outputs": [
    {
     "name": "stdout",
     "output_type": "stream",
     "text": [
      "[4, 5, 6]\n"
     ]
    }
   ],
   "source": [
    "# Quite simple code\n",
    "def destroy_element(list1,list2):\n",
    "  return [elt for elt in list1 if elt not in list2]\n",
    "\n",
    "list1=[1,2,4,5,6]\n",
    "list2=[1,2]\n",
    "print(destroy_element(list1,list2))"
   ]
  },
  {
   "cell_type": "markdown",
   "metadata": {
    "id": "UZq_NOou7ke9"
   },
   "source": [
    "# Ex2 (Majority element)\n",
    "Given an array nums of size n, return the majority element.\n",
    "\n",
    "The majority element is the element that appears more than ⌊n / 2⌋ times. You may assume that the majority element always exists in the array.\n",
    "\n",
    "Input: nums = [2,2,1,1,1,2,2] <br>\n",
    "Output: 2"
   ]
  },
  {
   "cell_type": "code",
   "execution_count": null,
   "metadata": {
    "colab": {
     "base_uri": "https://localhost:8080/"
    },
    "executionInfo": {
     "elapsed": 14,
     "status": "ok",
     "timestamp": 1743036481372,
     "user": {
      "displayName": "Abakar Assouna Mahamat",
      "userId": "11729609496047913925"
     },
     "user_tz": 0
    },
    "id": "xVn5x3Jas6W6",
    "outputId": "0ed96dcb-8a31-4b89-9ea1-4f4881b010a6"
   },
   "outputs": [
    {
     "name": "stdout",
     "output_type": "stream",
     "text": [
      "1\n"
     ]
    }
   ],
   "source": [
    "# Write your code here\n",
    "def majority_element(nums):\n",
    "  for i in range(len(nums)):\n",
    "    count= 0\n",
    "    for j in range(len(nums)):\n",
    "        if nums[i]==nums[j]:\n",
    "          count += 1\n",
    "    if count>=len(nums)/2:\n",
    "          return nums[i]\n",
    "nums = [1,3,1,1,1,1,2,3]\n",
    "print(majority_element(nums))"
   ]
  },
  {
   "cell_type": "markdown",
   "metadata": {
    "id": "puVxPeZP9IGO"
   },
   "source": [
    "# Ex3:\n",
    "\n",
    "Given an integer array nums, return true if any value appears at least twice in the array, and return false if every element is distinct.\n",
    "\n",
    "Input: nums = [1,2,3,1] <br>\n",
    "Output: true"
   ]
  },
  {
   "cell_type": "code",
   "execution_count": null,
   "metadata": {
    "colab": {
     "base_uri": "https://localhost:8080/"
    },
    "executionInfo": {
     "elapsed": 16,
     "status": "ok",
     "timestamp": 1743037064173,
     "user": {
      "displayName": "Abakar Assouna Mahamat",
      "userId": "11729609496047913925"
     },
     "user_tz": 0
    },
    "id": "Ma6zH-6NuJ4d",
    "outputId": "a671afcb-1a78-4b9e-e2d2-f644c6bfda24"
   },
   "outputs": [
    {
     "name": "stdout",
     "output_type": "stream",
     "text": [
      "False\n"
     ]
    }
   ],
   "source": [
    "# Write your code here\n",
    "def contains_Duplicate(nums):\n",
    "  for i in range(len(nums)):\n",
    "    count= 0\n",
    "    for j in range(len(nums)):\n",
    "      if nums[i]==nums[j]:\n",
    "        count += 1\n",
    "    return True if count>=2 else False\n",
    "\n",
    "nums = [1,2,3,4]\n",
    "print(contains_Duplicate(nums))"
   ]
  },
  {
   "cell_type": "markdown",
   "metadata": {
    "id": "rVd-qLroC36V"
   },
   "source": [
    "# Ex4:\n",
    "Write a factors function that accepts a positive whole number\n",
    "It should return a list of all of the number's factors in ascending order\n",
    " HINT: Could the range function be helpful here? Or maybe a while loop?\n",
    "EXAMPLES\n",
    "\n",
    "* factors(1)  => [1]\n",
    "* factors(2)  => [1, 2]\n",
    "* factors(10) => [1, 2, 5, 10]\n",
    "* factors(64) => [1, 2, 4, 8, 16, 32, 64]\n"
   ]
  },
  {
   "cell_type": "code",
   "execution_count": null,
   "metadata": {
    "colab": {
     "base_uri": "https://localhost:8080/"
    },
    "executionInfo": {
     "elapsed": 13,
     "status": "ok",
     "timestamp": 1743038729717,
     "user": {
      "displayName": "Abakar Assouna Mahamat",
      "userId": "11729609496047913925"
     },
     "user_tz": 0
    },
    "id": "D0yaEPVHuczY",
    "outputId": "47813f3b-074a-49d6-d385-79046de79ef5"
   },
   "outputs": [
    {
     "name": "stdout",
     "output_type": "stream",
     "text": [
      "[1, 2, 3, 4, 6, 8, 12, 24]\n"
     ]
    }
   ],
   "source": [
    "# Write your code here\n",
    "def factors(numb):\n",
    "  list1= []\n",
    "  for i in range(1,numb+1):\n",
    "    if numb % i== 0:\n",
    "      list1.append(i)\n",
    "  return list1\n",
    "\n",
    "numb= 24\n",
    "print(factors(numb))"
   ]
  },
  {
   "cell_type": "markdown",
   "metadata": {
    "id": "h4ErNY7uG5xR"
   },
   "source": [
    "#Ex5:\n",
    "Write a Python function that takes a positive integer as input and returns the sum of the squares of all the positive integers up to that number."
   ]
  },
  {
   "cell_type": "code",
   "execution_count": null,
   "metadata": {
    "colab": {
     "base_uri": "https://localhost:8080/"
    },
    "executionInfo": {
     "elapsed": 7,
     "status": "ok",
     "timestamp": 1743039902275,
     "user": {
      "displayName": "Abakar Assouna Mahamat",
      "userId": "11729609496047913925"
     },
     "user_tz": 0
    },
    "id": "ocvQN8hUubSr",
    "outputId": "598c4fea-7356-40e3-eb9a-c2ee709e8d73"
   },
   "outputs": [
    {
     "name": "stdout",
     "output_type": "stream",
     "text": [
      "55\n"
     ]
    }
   ],
   "source": [
    "# Write your code here\n",
    "def sum_of_square(number):\n",
    "  sum=0\n",
    "  for i in range(1,number+1):\n",
    "    sum+=i**2\n",
    "  return sum\n",
    "number= 5\n",
    "print(sum_of_square(number))"
   ]
  },
  {
   "cell_type": "markdown",
   "metadata": {
    "id": "88GfmnrlHVqu"
   },
   "source": [
    "#Ex6:\n",
    "Create a list of tuples, where each tuple represents a person with a name and age. Sort the list based on the age of the individuals."
   ]
  },
  {
   "cell_type": "code",
   "execution_count": null,
   "metadata": {
    "colab": {
     "base_uri": "https://localhost:8080/"
    },
    "executionInfo": {
     "elapsed": 12,
     "status": "ok",
     "timestamp": 1743054701910,
     "user": {
      "displayName": "Abakar Assouna Mahamat",
      "userId": "11729609496047913925"
     },
     "user_tz": 0
    },
    "id": "CHmcYjf4uu8N",
    "outputId": "35e78ccc-6a6e-4046-d6f7-ff5c3a9b964c"
   },
   "outputs": [
    {
     "name": "stdout",
     "output_type": "stream",
     "text": [
      "[('Mahamat', '20'), ('Souleyman', '18'), ('Tahir', '16'), ('Bouba', '14')]\n"
     ]
    }
   ],
   "source": [
    "# Write your code here\n",
    "person1=(\"Mahamat\", \"20\")\n",
    "person2=(\"Tahir\", \"16\")\n",
    "person3=(\"Souleyman\", \"18\")\n",
    "person4=(\"Bouba\", \"14\")\n",
    "\n",
    "list_of_tuples=[person1, person2, person3, person4]\n",
    "\n",
    "list_of_tuples.sort(key= lambda x: int(x[1]), reverse=True)\n",
    "print(list_of_tuples)"
   ]
  },
  {
   "cell_type": "markdown",
   "metadata": {
    "id": "-2cOhkMwHIg4"
   },
   "source": [
    "#Ex7:\n",
    "Write a function that takes a list of words and a minimum length, and returns a new list containing only the words that are longer than the specified length."
   ]
  },
  {
   "cell_type": "code",
   "execution_count": null,
   "metadata": {
    "colab": {
     "base_uri": "https://localhost:8080/"
    },
    "executionInfo": {
     "elapsed": 17,
     "status": "ok",
     "timestamp": 1743040763534,
     "user": {
      "displayName": "Abakar Assouna Mahamat",
      "userId": "11729609496047913925"
     },
     "user_tz": 0
    },
    "id": "JObqLzcWvJds",
    "outputId": "c007b0f5-0cb5-4974-d106-e308b7c445c1"
   },
   "outputs": [
    {
     "name": "stdout",
     "output_type": "stream",
     "text": [
      "['Hello', 'Bonjour', 'Salut', 'Hallo', 'Guten Morgen', 'Merci', 'Danke', 'Thank you']\n"
     ]
    }
   ],
   "source": [
    "# Write your code here\n",
    "def list_of_words(my_list, min_len):\n",
    "  new_list= []\n",
    "  for elt in my_list:\n",
    "    if len(elt)>min_len:\n",
    "      new_list.append(elt)\n",
    "  return new_list\n",
    "\n",
    "my_list= [\"Hi\", \"Hello\", \"Bonjour\", \"Salut\", \"Hey\", \"Hallo\", \"Guten Morgen\", \"Merci\", \"Danke\", \"Thank you\" ]\n",
    "min_len= 3\n",
    "print(list_of_words(my_list, min_len))\n"
   ]
  },
  {
   "cell_type": "markdown",
   "metadata": {
    "id": "0ZS6BKpEDu9x"
   },
   "source": [
    "# Ex8:\n",
    "Declare a delete_all function that accepts a list and a target\n",
    "Remove all occurrences of the target  from the list and return it\n",
    "\n",
    "EXAMPLES\n",
    "* delete_all([1, 3, 5], 3)  => [1, 5]\n",
    "* delete_all([5, 3, 5], 5)  => [3]\n",
    "* delete_all([4, 4, 4], 4)  => []\n",
    "* delete_all([4, 4, 4], 6)  => [4, 4, 4]"
   ]
  },
  {
   "cell_type": "code",
   "execution_count": null,
   "metadata": {
    "colab": {
     "base_uri": "https://localhost:8080/"
    },
    "executionInfo": {
     "elapsed": 47,
     "status": "ok",
     "timestamp": 1743042448503,
     "user": {
      "displayName": "Abakar Assouna Mahamat",
      "userId": "11729609496047913925"
     },
     "user_tz": 0
    },
    "id": "iKKREE4XvyWL",
    "outputId": "5c694f45-ccf4-4701-8c6a-a6fd5640aec8"
   },
   "outputs": [
    {
     "name": "stdout",
     "output_type": "stream",
     "text": [
      "[1, 3, 5, 5, 3, 5]\n"
     ]
    }
   ],
   "source": [
    "# Write your code here\n",
    "def delete_all_occurrences(My_list2,target):\n",
    "  for elt in My_list2[:]:\n",
    "    if elt==target:\n",
    "      My_list2.remove(elt)\n",
    "  return My_list2\n",
    "\n",
    "My_list2=[1,2,2,3,5,5,3,5]\n",
    "target=2\n",
    "print(delete_all_occurrences(My_list2,target))\n"
   ]
  },
  {
   "cell_type": "code",
   "execution_count": null,
   "metadata": {
    "colab": {
     "base_uri": "https://localhost:8080/"
    },
    "executionInfo": {
     "elapsed": 6,
     "status": "ok",
     "timestamp": 1743042544031,
     "user": {
      "displayName": "Abakar Assouna Mahamat",
      "userId": "11729609496047913925"
     },
     "user_tz": 0
    },
    "id": "qGFT5RQpbUiD",
    "outputId": "7b74a25c-ee7b-4c1b-ce7d-dbc38dc33326"
   },
   "outputs": [
    {
     "name": "stdout",
     "output_type": "stream",
     "text": [
      "[1, 3, 5, 5, 3, 5]\n"
     ]
    }
   ],
   "source": [
    "# Quite simple\n",
    "def delete_all_occurrences(My_list2,target):\n",
    "  return [elt for elt in My_list2 if elt!=target]\n",
    "My_list2=[1,2,2,3,5,5,3,5]\n",
    "target=2\n",
    "print(delete_all_occurrences(My_list2,target))\n"
   ]
  },
  {
   "cell_type": "markdown",
   "metadata": {
    "id": "R4dKFHA6D4-m"
   },
   "source": [
    "# Ex9:\n",
    "\n",
    "Define an encrypt_message function that accepts a string.\n",
    " The input string will consist of only alphabetic characters.\n",
    " The function should return a string where all characters have been moved\n",
    " \"up\" two spots in the alphabet. For example, \"a\" will become \"c\".\n",
    "\n",
    " EXAMPLES\n",
    "* encrypt_message(\"abc\") =&gt; \"cde\"\n",
    "* encrypt_message(\"xyz\") =&gt; \"zab\"\n",
    "* encrypt_message(\"\")    =&gt; \"\"\n",
    "\n",
    "* bonus:  can you write a function to decrypt the encrypted message :)"
   ]
  },
  {
   "cell_type": "code",
   "execution_count": null,
   "metadata": {
    "id": "b-Vd-7NUv2LA"
   },
   "outputs": [],
   "source": [
    "# Write your code here"
   ]
  },
  {
   "cell_type": "markdown",
   "metadata": {
    "id": "LDKoTj1NEFdY"
   },
   "source": [
    "#Ex10:\n",
    "\n",
    "Define a word_lengths function that accepts a string.\n",
    "It should return a list with the lengths of each word.\n",
    "\n",
    " EXAMPLES\n",
    "* word_lengths(\"Mary Poppins was a nanny\")  => [4, 7, 3, 1, 5]\n",
    "* word_lengths(\"Somebody stole my donut\")   => [8, 5, 2, 5]"
   ]
  },
  {
   "cell_type": "code",
   "execution_count": null,
   "metadata": {
    "colab": {
     "base_uri": "https://localhost:8080/"
    },
    "executionInfo": {
     "elapsed": 14,
     "status": "ok",
     "timestamp": 1743129184571,
     "user": {
      "displayName": "Abakar Assouna Mahamat",
      "userId": "11729609496047913925"
     },
     "user_tz": 0
    },
    "id": "mou8C2sav7pS",
    "outputId": "17121725-04e5-4f0f-b950-7b76c1c6856f"
   },
   "outputs": [
    {
     "name": "stdout",
     "output_type": "stream",
     "text": [
      "[4, 7, 3, 1, 5, 8, 5, 2, 5]\n"
     ]
    }
   ],
   "source": [
    "# Write your code here\n",
    "def word_lengths(strings):\n",
    "  list_of_len=[]\n",
    "  charac=strings.split()\n",
    "  for elt in charac:\n",
    "    list_of_len.append(len(elt))\n",
    "  return list_of_len\n",
    "\n",
    "strings= \"Mary Poppins was a nanny Somebody stole my donut\"\n",
    "print(word_lengths(strings))\n",
    "\n"
   ]
  },
  {
   "cell_type": "markdown",
   "metadata": {
    "id": "WFRV5VYbEWEd"
   },
   "source": [
    "# Ex11:\n",
    "\n",
    "Define a cleanup function that accepts a list of strings.\n",
    "The function should return the strings joined together by a space.\n",
    "There's one BIG problem -- some of the strings are empty or only consist of spaces!\n",
    "These should NOT be included in the final string\n",
    "#\n",
    "* cleanup([\"cat\", \"er\", \"pillar\"])           => \"cat er pillar\"\n",
    "* cleanup([\"cat\", \" \", \"er\", \"\", \"pillar\"])  => \"cat er pillar\"\n",
    "* cleanup([\"\", \"\", \" \"])                     => \"\"\n"
   ]
  },
  {
   "cell_type": "code",
   "execution_count": null,
   "metadata": {
    "colab": {
     "base_uri": "https://localhost:8080/"
    },
    "executionInfo": {
     "elapsed": 46,
     "status": "ok",
     "timestamp": 1743131654171,
     "user": {
      "displayName": "Abakar Assouna Mahamat",
      "userId": "11729609496047913925"
     },
     "user_tz": 0
    },
    "id": "x3E0yruswBSn",
    "outputId": "32c379c0-4a78-4e05-862d-30674e5bb2a4"
   },
   "outputs": [
    {
     "name": "stdout",
     "output_type": "stream",
     "text": [
      "p i l l a r\n"
     ]
    }
   ],
   "source": [
    "# Write your code here\n",
    "def cleanup(list_of_str):\n",
    "  for elt in list_of_str:\n",
    "    elt1=elt.strip()\n",
    "  return \" \".join(elt1)\n",
    "\n",
    "list_of_str=[\"cat\", \"er\", \"pillar\"]\n",
    "\n",
    "print(cleanup(list_of_str))\n",
    "\n",
    "\n"
   ]
  },
  {
   "cell_type": "markdown",
   "metadata": {
    "id": "nIyrVVFDEnHE"
   },
   "source": [
    "# Ex12:\n",
    "\n",
    "Define a nested_sum function that accepts a list of lists of numbers\n",
    "The function should return the sum of the values\n",
    " The list may contain empty lists\n",
    "\n",
    " EXAMPLES\n",
    "* nested_sum([[1, 2, 3], [4, 5]])            =&gt; 15\n",
    "* nested_sum([[1, 2, 3], [], [], [4], [5]])  =&gt; 15\n",
    "* nested_sum([[]])   "
   ]
  },
  {
   "cell_type": "code",
   "execution_count": null,
   "metadata": {
    "colab": {
     "base_uri": "https://localhost:8080/"
    },
    "executionInfo": {
     "elapsed": 7,
     "status": "ok",
     "timestamp": 1743132028010,
     "user": {
      "displayName": "Abakar Assouna Mahamat",
      "userId": "11729609496047913925"
     },
     "user_tz": 0
    },
    "id": "iL1WpI0lwE9Y",
    "outputId": "c24a7a7d-c8c2-404e-fd46-a0fcfe62734a"
   },
   "outputs": [
    {
     "name": "stdout",
     "output_type": "stream",
     "text": [
      "15\n"
     ]
    }
   ],
   "source": [
    "# Write your code here\n",
    "def nested_sum(lists):\n",
    "  n_sum=0\n",
    "  for elt in lists:\n",
    "    n_sum += sum(elt)\n",
    "  return n_sum\n",
    "\n",
    "print(nested_sum([[1, 2, 3], [4, 5]]))"
   ]
  },
  {
   "cell_type": "markdown",
   "metadata": {
    "id": "qR-UrTXyH3P6"
   },
   "source": [
    "#Ex13:\n",
    "Create a dictionary representing a person (include name, age, and city). Write a program to:\n",
    "\n",
    "* Print the person's information.\n",
    "* Update the person's age.\n",
    "* Add a new key-value pair for the person's occupation.\n",
    "* Display the updated dictionary."
   ]
  },
  {
   "cell_type": "code",
   "execution_count": 1,
   "metadata": {
    "colab": {
     "base_uri": "https://localhost:8080/",
     "height": 228
    },
    "executionInfo": {
     "elapsed": 211,
     "status": "error",
     "timestamp": 1743200096407,
     "user": {
      "displayName": "Abakar Assouna Mahamat",
      "userId": "11729609496047913925"
     },
     "user_tz": 0
    },
    "id": "Hlpnr_thsp-e",
    "outputId": "5380eac7-cb28-4977-edad-f046fce7dbee"
   },
   "outputs": [
    {
     "name": "stdout",
     "output_type": "stream",
     "text": [
      "Original Dictionary:\n"
     ]
    },
    {
     "ename": "NameError",
     "evalue": "name 'person' is not defined",
     "output_type": "error",
     "traceback": [
      "\u001b[0;31m---------------------------------------------------------------------------\u001b[0m",
      "\u001b[0;31mNameError\u001b[0m                                 Traceback (most recent call last)",
      "\u001b[0;32m<ipython-input-1-2b7c6f427ea9>\u001b[0m in \u001b[0;36m<cell line: 0>\u001b[0;34m()\u001b[0m\n\u001b[1;32m      5\u001b[0m \u001b[0;31m# Print the original dictionary\u001b[0m\u001b[0;34m\u001b[0m\u001b[0;34m\u001b[0m\u001b[0m\n\u001b[1;32m      6\u001b[0m \u001b[0mprint\u001b[0m\u001b[0;34m(\u001b[0m\u001b[0;34m\"Original Dictionary:\"\u001b[0m\u001b[0;34m)\u001b[0m\u001b[0;34m\u001b[0m\u001b[0;34m\u001b[0m\u001b[0m\n\u001b[0;32m----> 7\u001b[0;31m \u001b[0mprint\u001b[0m\u001b[0;34m(\u001b[0m\u001b[0mperson\u001b[0m\u001b[0;34m)\u001b[0m\u001b[0;34m\u001b[0m\u001b[0;34m\u001b[0m\u001b[0m\n\u001b[0m\u001b[1;32m      8\u001b[0m \u001b[0;34m\u001b[0m\u001b[0m\n\u001b[1;32m      9\u001b[0m \u001b[0;31m# Update the person's age\u001b[0m\u001b[0;34m\u001b[0m\u001b[0;34m\u001b[0m\u001b[0m\n",
      "\u001b[0;31mNameError\u001b[0m: name 'person' is not defined"
     ]
    }
   ],
   "source": [
    "# Write your code here\n",
    "# Define the dictionary\n",
    "person_information = {\"name\": \"Bouba \", \"age\": 18, \"city\": \"N'Djamena\"}\n",
    "\n",
    "# Print the original dictionary\n",
    "print(\"Original Dictionary:\")\n",
    "print(person)\n",
    "\n",
    "# Update the person's age\n",
    "person[\"age\"] = 20\n",
    "\n",
    "# Add a new key-value pair for occupation\n",
    "person[\"occupation\"] = \"Software Engineer\"\n",
    "\n",
    "# Print the updated dictionary\n",
    "print(\"\\nUpdated Dictionary:\")\n",
    "print(person)\n"
   ]
  },
  {
   "cell_type": "markdown",
   "metadata": {
    "id": "Vw-3fHSNFoWC"
   },
   "source": [
    "# Ex14:\n",
    "\n",
    "Many organizations have user ids which are constrained in some way. Imagine you work at an internet service provider and the user ids are all two letters followed by two numbers (e.g. aa49). Your task at such an organization might be to hold a record on the billing activity for each possible user.\n",
    "\n",
    "Write an initialization line as a single list comprehension which creates a list of all possible user ids. Assume the letters are all lower case."
   ]
  },
  {
   "cell_type": "code",
   "execution_count": null,
   "metadata": {
    "id": "lBlaus6ZwKRr"
   },
   "outputs": [],
   "source": [
    "# Write your code here"
   ]
  },
  {
   "cell_type": "markdown",
   "metadata": {
    "id": "hCecXHVOFaWG"
   },
   "source": [
    "# Ex15:\n",
    "Ask the user to enter a password, then:\n",
    "\n",
    "*   check if it contains uppercase letters, lowercase letters, numbers and special characters.\n",
    "*   Give feedback to the user(\"Strong password!\" or \" The password should include a mix of uppercase letters, lowercase letters, numbers, and special characters.\" ).\n",
    "\n"
   ]
  },
  {
   "cell_type": "code",
   "execution_count": null,
   "metadata": {
    "id": "ik9Jg2XbGmcR"
   },
   "outputs": [],
   "source": [
    "# Write your code here\n"
   ]
  },
  {
   "cell_type": "markdown",
   "metadata": {
    "id": "rR0les2KG-2C"
   },
   "source": [
    "# Ex16:\n",
    "\n",
    "Declare a sum_of_evens_and_odds function that accepts a tuple of numbers.\n",
    "#### It should return a tuple with two numeric values:\n",
    " - the sum of the even numbers\n",
    " - the sum of the odd numbers.\n",
    "* sum_of_evens_and_odds((1, 2, 3, 4))   => (6, 4)\n",
    "* sum_of_evens_and_odds((1, 3, 5))      => (0, 9)\n",
    "* sum_of_evens_and_odds((2, 4, 6))      => (12, 0)\n"
   ]
  },
  {
   "cell_type": "code",
   "execution_count": null,
   "metadata": {
    "id": "i1QUrg1qHEAf"
   },
   "outputs": [],
   "source": [
    "# Write your code here\n"
   ]
  },
  {
   "cell_type": "markdown",
   "metadata": {
    "id": "zN-lIAX6PBv_"
   },
   "source": [
    "# Ex17:\n",
    "\n",
    "Define a length_counts function that accepts a list of strings.\n",
    "The function should return a dictionary where the keys represent\n",
    " length and the values represent how many strings have that length.\n",
    "\n",
    " EXAMPLE:\n",
    "* sa_countries = [\"Brazil\", \"Venezuela\", \"Argentina\", \"Ecuador\", \"Bolivia\", \"Peru\"]\n",
    "* length_counts(sa_countries) =&gt; # {6: 1, 9: 2, 7: 2, 4: 1}\n",
    "* There is 1 string with 6 letters, 2 strings with 9 letters,\n",
    "* 2 strings with 7 letters, and 1 string with 4 letters."
   ]
  },
  {
   "cell_type": "code",
   "execution_count": null,
   "metadata": {
    "id": "XQNXxohDPI2a"
   },
   "outputs": [],
   "source": [
    "# Write your code here"
   ]
  },
  {
   "cell_type": "markdown",
   "metadata": {
    "id": "18XGQlvusz41"
   },
   "source": [
    "# Ex18:\n",
    "\n",
    "Given two strings s and t, determine if they are isomorphic.\n",
    "\n",
    "Two strings s and t are isomorphic if the characters in s can be replaced to get t.\n",
    "\n",
    "All occurrences of a character must be replaced with another character while preserving the order of characters. No two characters may map to the same character, but a character may map to itself."
   ]
  },
  {
   "cell_type": "markdown",
   "metadata": {
    "id": "Y_nkzWLltAqh"
   },
   "source": [
    "Input: s = \"egg\", t = \"add\" <br>\n",
    "Output: true\n",
    "<br><br>\n",
    "Input: s = \"foo\", t = \"bar\" <br>\n",
    "Output: false"
   ]
  },
  {
   "cell_type": "code",
   "execution_count": null,
   "metadata": {
    "id": "_6R7d_HHs7jX"
   },
   "outputs": [],
   "source": [
    "# Write your code here"
   ]
  },
  {
   "cell_type": "markdown",
   "metadata": {
    "id": "ZwDgOtitva28"
   },
   "source": [
    "# Ex19:\n",
    "\n",
    " Dot product of vectors: <br>\n",
    "\n",
    "Vectors are mathematical objects that are often used to represent the inputs to neural networks. One way to view the vectors is as list of items. Complete the following code to compute dot product of two vectors. Dot product is defined the following equation:-\n",
    "</font>\n",
    "\n",
    "$$\n",
    "x.y = <x, y> = x^Ty = \\sum_{i}^n x_iy_i\n",
    "$$\n",
    "\n",
    "<font  color=\"white\">\n",
    "Assume that only lists are passed to the function and they also contain only numeric datatype.\n",
    "\n",
    "</font>"
   ]
  },
  {
   "cell_type": "code",
   "execution_count": null,
   "metadata": {
    "id": "hP7lPZtWv3Ot"
   },
   "outputs": [],
   "source": [
    "# Write your code here"
   ]
  },
  {
   "cell_type": "markdown",
   "metadata": {
    "id": "M8uSZ_oewecj"
   },
   "source": [
    "# Ex20:\n",
    "\n",
    "Write a function MatMul that multiplies two 2D matrices A and B and returns the result\n",
    "\n",
    "Validate you code using:\n",
    "\n",
    "```\n",
    "A = [ [1,2,3],[4,5,6] ]\n",
    "B = [ [4,5], [1,2], [0, 1] ]\n",
    "\n",
    "\n",
    "```"
   ]
  },
  {
   "cell_type": "code",
   "execution_count": null,
   "metadata": {
    "colab": {
     "base_uri": "https://localhost:8080/",
     "height": 106
    },
    "executionInfo": {
     "elapsed": 48,
     "status": "error",
     "timestamp": 1743042758248,
     "user": {
      "displayName": "Abakar Assouna Mahamat",
      "userId": "11729609496047913925"
     },
     "user_tz": 0
    },
    "id": "sKKwisC5wuZq",
    "outputId": "39f77b99-22e9-42af-deef-0efaa69a516b"
   },
   "outputs": [
    {
     "ename": "IndentationError",
     "evalue": "expected an indented block after function definition on line 1 (<ipython-input-103-c1479e2fe355>, line 7)",
     "output_type": "error",
     "traceback": [
      "\u001b[0;36m  File \u001b[0;32m\"<ipython-input-103-c1479e2fe355>\"\u001b[0;36m, line \u001b[0;32m7\u001b[0m\n\u001b[0;31m    A = [ [1,2,3],[4,5,6] ]\u001b[0m\n\u001b[0m    ^\u001b[0m\n\u001b[0;31mIndentationError\u001b[0m\u001b[0;31m:\u001b[0m expected an indented block after function definition on line 1\n"
     ]
    }
   ],
   "source": [
    "def MatMul(A, B):\n",
    "  ##### WRITE YOUR CODE HERE #####\n",
    "\n",
    "  #### END CODE ####\n",
    "\n",
    "\n",
    "A = [ [1,2,3],[4,5,6] ]\n",
    "B = [ [4,5], [1,2], [0, 1] ]\n",
    "print(MatMul(A, B))\n",
    "assert MatMul(A, B)==[[6, 12], [21, 36]], \"Your implementation is not correct\"\n",
    "print(\"Congrats, It is working\")"
   ]
  },
  {
   "cell_type": "markdown",
   "metadata": {
    "id": "BZcW3Dk_eJoz"
   },
   "source": [
    "#Ex21:\n",
    "\n",
    "<b> Given a list l, reverse l.\n",
    "Ex= [1,2,3,4,5] ==> [5,4,3,2,1]. In this case the operation has to be done in-place. Do not allow new memory space</b>\n",
    "\n",
    "DON't USE THE PYTHON INDEXING [::-1]"
   ]
  },
  {
   "cell_type": "code",
   "execution_count": null,
   "metadata": {
    "colab": {
     "base_uri": "https://localhost:8080/"
    },
    "executionInfo": {
     "elapsed": 55,
     "status": "ok",
     "timestamp": 1743055333869,
     "user": {
      "displayName": "Abakar Assouna Mahamat",
      "userId": "11729609496047913925"
     },
     "user_tz": 0
    },
    "id": "t2nH7TUMeR9S",
    "outputId": "9323b153-e20a-47da-f2dd-aed6220e3d7b"
   },
   "outputs": [
    {
     "name": "stdout",
     "output_type": "stream",
     "text": [
      "[5, 4, 3, 2, 1]\n"
     ]
    }
   ],
   "source": [
    "# Write your code here\n",
    "list1=[1,2,3,4,5]\n",
    "list1.sort(reverse= True)\n",
    "print(list1)"
   ]
  },
  {
   "cell_type": "markdown",
   "metadata": {
    "id": "7t8LhgVbespH"
   },
   "source": [
    "# Ex22:\n",
    "\n",
    "<b> Given a string s, check whether s is a palindrome. s is the palindrome if s is equal to its reverse.Using:\n",
    "- slicing in python\n",
    "- loop.</b>\n",
    "\n",
    "example : s='aba' is a palindrom\n",
    "s='abaa' isnot a palindrom"
   ]
  },
  {
   "cell_type": "code",
   "execution_count": null,
   "metadata": {
    "colab": {
     "base_uri": "https://localhost:8080/"
    },
    "executionInfo": {
     "elapsed": 10,
     "status": "ok",
     "timestamp": 1743121329066,
     "user": {
      "displayName": "Abakar Assouna Mahamat",
      "userId": "11729609496047913925"
     },
     "user_tz": 0
    },
    "id": "tLIuX7ASesVx",
    "outputId": "8168ee55-027a-4650-a335-056c9247e7b3"
   },
   "outputs": [
    {
     "name": "stdout",
     "output_type": "stream",
     "text": [
      "BBa\n"
     ]
    }
   ],
   "source": [
    "# Write your code here\n",
    "s= 'BaB'\n",
    "s1=list(s)\n",
    "s1.sort(reverse= False)\n",
    "s2=\"\".join(s1)\n",
    "print(s2)\n"
   ]
  },
  {
   "cell_type": "markdown",
   "metadata": {
    "id": "u5vdU3SBiUqd"
   },
   "source": [
    "# Ex23:\n",
    "\n",
    "Find the factorial of a given number:\n",
    "\n",
    "Write a program to use the loop to find the factorial of a given number.\n",
    "\n",
    "The factorial (symbol: !) means to multiply all whole numbers from the chosen number down to 1.\n",
    "\n",
    "For example: calculate the factorial of 5"
   ]
  },
  {
   "cell_type": "code",
   "execution_count": null,
   "metadata": {
    "colab": {
     "base_uri": "https://localhost:8080/"
    },
    "executionInfo": {
     "elapsed": 7,
     "status": "ok",
     "timestamp": 1743122223676,
     "user": {
      "displayName": "Abakar Assouna Mahamat",
      "userId": "11729609496047913925"
     },
     "user_tz": 0
    },
    "id": "TPzmWdq7ieiu",
    "outputId": "5f65f72e-cbe6-46f6-def3-d6d0073a1f5c"
   },
   "outputs": [
    {
     "name": "stdout",
     "output_type": "stream",
     "text": [
      "362880\n"
     ]
    }
   ],
   "source": [
    "# Write your code here\n",
    "def factorial(n):\n",
    "  fac_of_n=1\n",
    "  for i in range(1,n+1):\n",
    "    fac_of_n *=i\n",
    "  return fac_of_n\n",
    "n=9\n",
    "print(factorial(n))"
   ]
  },
  {
   "cell_type": "markdown",
   "metadata": {
    "id": "G6evsWkHimeY"
   },
   "source": [
    "# Ex24:\n",
    "\n",
    "Display Fibonacci series up to 10 terms:\n",
    "\n",
    "The Fibonacci Sequence is a series of numbers. The next number is found by adding up the two numbers before it. The first two numbers are 0 and 1.\n",
    "\n",
    "For example, 0, 1, 1, 2, 3, 5, 8, 13, 21. The next number in this series above is 13+21 = 34."
   ]
  },
  {
   "cell_type": "code",
   "execution_count": null,
   "metadata": {
    "colab": {
     "base_uri": "https://localhost:8080/"
    },
    "executionInfo": {
     "elapsed": 54,
     "status": "ok",
     "timestamp": 1743126744698,
     "user": {
      "displayName": "Abakar Assouna Mahamat",
      "userId": "11729609496047913925"
     },
     "user_tz": 0
    },
    "id": "aZC6D0VOiq4F",
    "outputId": "3706679f-e46e-4545-ee20-85278c8a6365"
   },
   "outputs": [
    {
     "name": "stdout",
     "output_type": "stream",
     "text": [
      "[0, 1, 1, 2, 3, 5, 8, 13, 21, 34, 55, 89, 144, 233, 377, 610, 987, 1597, 2584, 4181, 6765, 10946, 17711, 28657, 46368, 75025, 121393, 196418, 317811, 514229, 832040, 1346269, 2178309, 3524578, 5702887, 9227465]\n"
     ]
    }
   ],
   "source": [
    "# Write your code here\n",
    "def Fibonacci_sequence(n):\n",
    "  list_fib=[0,1]\n",
    "  for i in range(2,n+1):\n",
    "    j=list_fib[-1] + list_fib[-2]\n",
    "    list_fib.append(j)\n",
    "  return list_fib\n",
    "n=35\n",
    "print(Fibonacci_sequence(n))"
   ]
  },
  {
   "cell_type": "markdown",
   "metadata": {
    "id": "5XdX6KBqi2S1"
   },
   "source": [
    "# Ex25:\n",
    "\n",
    "- Write a program to display all prime numbers within a range.\n",
    "\n",
    "- range\n",
    "start = 19\n",
    "end = 70"
   ]
  },
  {
   "cell_type": "code",
   "execution_count": null,
   "metadata": {
    "colab": {
     "base_uri": "https://localhost:8080/"
    },
    "executionInfo": {
     "elapsed": 11,
     "status": "ok",
     "timestamp": 1743124634506,
     "user": {
      "displayName": "Abakar Assouna Mahamat",
      "userId": "11729609496047913925"
     },
     "user_tz": 0
    },
    "id": "wmxegZhOi9qb",
    "outputId": "987af9c9-e4d8-4060-b3aa-3656c68a2c09"
   },
   "outputs": [
    {
     "name": "stdout",
     "output_type": "stream",
     "text": [
      "[19, 23, 29, 31, 37, 41, 43, 47, 53, 59, 61, 67]\n"
     ]
    }
   ],
   "source": [
    "def prime_nums(n):\n",
    "    primes_list = []\n",
    "    for i in range(19, n + 1):\n",
    "        for j in range(2, i):\n",
    "            if i % j == 0:\n",
    "                break\n",
    "        else:\n",
    "            primes_list.append(i)\n",
    "    return primes_list\n",
    "\n",
    "n = 70\n",
    "print(prime_nums(n))\n",
    "\n"
   ]
  },
  {
   "cell_type": "markdown",
   "metadata": {
    "id": "ndYKDm2JHr39"
   },
   "source": [
    "#Ex26:\n",
    "Write a program to copy the contents of one text file (input.txt) to another file (output.txt). Handle the case where file1 does not exist."
   ]
  },
  {
   "cell_type": "code",
   "execution_count": null,
   "metadata": {
    "id": "uE0h7JNcvsb_"
   },
   "outputs": [],
   "source": [
    "# Write your code here"
   ]
  }
 ],
 "metadata": {
  "colab": {
   "provenance": [
    {
     "file_id": "1C5XwFnak5lzl9gV0806Av9I9NMO4jJvW",
     "timestamp": 1742857248068
    },
    {
     "file_id": "1S_NMQ_7pZCzOMus9L7YhbRyp0Nupa_W3",
     "timestamp": 1742827073930
    },
    {
     "file_id": "1HVzJw6FLB2Y7y0Fjp0Pd62aiGEBTfjHm",
     "timestamp": 1708336160427
    },
    {
     "file_id": "1CC4_7muwLBwT6QVhAl6AlR98ulAE_tHO",
     "timestamp": 1708272214229
    }
   ]
  },
  "kernelspec": {
   "display_name": "Python 3",
   "name": "python3"
  },
  "language_info": {
   "name": "python"
  }
 },
 "nbformat": 4,
 "nbformat_minor": 0
}
